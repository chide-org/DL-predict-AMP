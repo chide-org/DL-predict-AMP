{
 "cells": [
  {
   "cell_type": "code",
   "execution_count": 5,
   "id": "2b5ccc29",
   "metadata": {},
   "outputs": [
    {
     "name": "stdout",
     "output_type": "stream",
     "text": [
      "分词 (Tokens):\n",
      "  i (PRON)\n",
      "  love (VERB)\n",
      "  cute (ADJ)\n",
      "  dogs (NOUN)\n",
      "  . (PUNCT)\n",
      "\n",
      "命名实体 (Named Entities):\n"
     ]
    }
   ],
   "source": [
    "import spacy\n",
    "\n",
    "# 加载中文模型\n",
    "spacy_zh = spacy.load('en_core_web_sm')\n",
    "\n",
    "# 你可以处理一个中文句子\n",
    "text = \"i love cute dogs.\"\n",
    "\n",
    "# 使用加载的模型处理文本\n",
    "doc = spacy_zh(text)\n",
    "\n",
    "# 打印分词结果\n",
    "print(\"分词 (Tokens):\")\n",
    "for token in doc:\n",
    "    print(f\"  {token.text} ({token.pos_})\") # token.pos_ 是词性\n",
    "\n",
    "# 打印命名实体\n",
    "print(\"\\n命名实体 (Named Entities):\")\n",
    "for ent in doc.ents:\n",
    "    print(f\"  {ent.text} ({ent.label_})\") # ent.label_ 是实体类型"
   ]
  }
 ],
 "metadata": {
  "kernelspec": {
   "display_name": "deeplearn",
   "language": "python",
   "name": "python3"
  },
  "language_info": {
   "codemirror_mode": {
    "name": "ipython",
    "version": 3
   },
   "file_extension": ".py",
   "mimetype": "text/x-python",
   "name": "python",
   "nbconvert_exporter": "python",
   "pygments_lexer": "ipython3",
   "version": "3.10.18"
  }
 },
 "nbformat": 4,
 "nbformat_minor": 5
}
